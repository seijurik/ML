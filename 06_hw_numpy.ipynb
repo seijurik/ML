{
  "cells": [
    {
      "cell_type": "markdown",
      "metadata": {
        "id": "sT9tdpYsLN7J"
      },
      "source": [
        "# Домашняя работа. Numpy\n",
        "\n",
        "1. Скачайте этот ноутбук к себе.\n",
        "2. Заполните пропущенные ячейки, отвечая на заданные вопросы. Там должен быть код! (если не сказано обратное)\n",
        "3. Сохраните результат в своём гитхаб репозитории.\n",
        "\n",
        "#### Полезная литература\n",
        "\n",
        "- http://www.numpy.org/\n",
        "- https://jakevdp.github.io/PythonDataScienceHandbook/02.00-introduction-to-numpy.html\n",
        "- https://docs.scipy.org/doc/numpy/user/quickstart.html"
      ]
    },
    {
      "cell_type": "markdown",
      "metadata": {
        "id": "3zcWzYZqLN7M"
      },
      "source": [
        "1) Импортировать numpy и написать версию"
      ]
    },
    {
      "cell_type": "code",
      "execution_count": null,
      "metadata": {
        "id": "JGxzOgcpLN7N"
      },
      "outputs": [],
      "source": [
        "import numpy as np"
      ]
    },
    {
      "cell_type": "markdown",
      "metadata": {
        "id": "IsuPyGKLLN7N"
      },
      "source": [
        "2) Создать нулевой вектор размера 10"
      ]
    },
    {
      "cell_type": "code",
      "execution_count": null,
      "metadata": {
        "colab": {
          "base_uri": "https://localhost:8080/"
        },
        "id": "iNf9pgbJLN7O",
        "outputId": "28248e5d-b93b-4e65-e0bb-971dc225b188"
      },
      "outputs": [
        {
          "output_type": "execute_result",
          "data": {
            "text/plain": [
              "array([0., 0., 0., 0., 0., 0., 0., 0., 0., 0.])"
            ]
          },
          "metadata": {},
          "execution_count": 2
        }
      ],
      "source": [
        "np.zeros(10)"
      ]
    },
    {
      "cell_type": "markdown",
      "metadata": {
        "id": "IZHDDhdmLN7O"
      },
      "source": [
        "3) Создать вектор заполненный 7-ами размера 7"
      ]
    },
    {
      "cell_type": "code",
      "execution_count": null,
      "metadata": {
        "colab": {
          "base_uri": "https://localhost:8080/"
        },
        "id": "LcnEWeuALN7O",
        "outputId": "bd920f9d-1ee1-4af6-c38d-464d54354812"
      },
      "outputs": [
        {
          "output_type": "execute_result",
          "data": {
            "text/plain": [
              "array([7, 7, 7, 7, 7, 7, 7])"
            ]
          },
          "metadata": {},
          "execution_count": 4
        }
      ],
      "source": [
        "np.full((7),7)"
      ]
    },
    {
      "cell_type": "markdown",
      "metadata": {
        "id": "dSCSPeHvLN7P"
      },
      "source": [
        "4) Создать вектор заполненный четными числами от 10 до 100"
      ]
    },
    {
      "cell_type": "code",
      "execution_count": null,
      "metadata": {
        "colab": {
          "base_uri": "https://localhost:8080/"
        },
        "id": "qYmngm2ZLN7P",
        "outputId": "c377134a-f0bb-463b-8131-c7a9040377f4"
      },
      "outputs": [
        {
          "output_type": "stream",
          "name": "stdout",
          "text": [
            "[ 10  12  14  16  18  20  22  24  26  28  30  32  34  36  38  40  42  44\n",
            "  46  48  50  52  54  56  58  60  62  64  66  68  70  72  74  76  78  80\n",
            "  82  84  86  88  90  92  94  96  98 100]\n"
          ]
        }
      ],
      "source": [
        "arr = np.arange(102)\n",
        "print(arr[10:102:2])"
      ]
    },
    {
      "cell_type": "markdown",
      "metadata": {
        "id": "UsfN6NnOLN7P"
      },
      "source": [
        "5) Создать массив случайных чисел и развернуть его задом наперёд"
      ]
    },
    {
      "cell_type": "code",
      "execution_count": null,
      "metadata": {
        "colab": {
          "base_uri": "https://localhost:8080/"
        },
        "id": "EAit-DfGLN7P",
        "outputId": "84aa0c7e-c031-4847-962d-5e92eec0cb04"
      },
      "outputs": [
        {
          "output_type": "stream",
          "name": "stdout",
          "text": [
            "[16 12  5 19  3  4  8  3  9  2]\n"
          ]
        }
      ],
      "source": [
        "arr = np.random.randint(0,20, 10)\n",
        "print(arr[::-1])"
      ]
    },
    {
      "cell_type": "markdown",
      "metadata": {
        "id": "V5kZqyZCLN7P"
      },
      "source": [
        "6) Создать двумерную матрицу размера 3 на 3, заполненную числами от 0 до 9"
      ]
    },
    {
      "cell_type": "code",
      "execution_count": null,
      "metadata": {
        "colab": {
          "base_uri": "https://localhost:8080/"
        },
        "id": "-HLwUHC7LN7P",
        "outputId": "79f7487f-369d-4150-d35c-fbd52ef476de"
      },
      "outputs": [
        {
          "output_type": "stream",
          "name": "stdout",
          "text": [
            "[[0 1 2]\n",
            " [3 4 5]\n",
            " [6 7 8]]\n"
          ]
        }
      ],
      "source": [
        "arr = np.arange(9)\n",
        "arr = arr.reshape(3,3)\n",
        "print(arr)"
      ]
    },
    {
      "cell_type": "markdown",
      "metadata": {
        "id": "GAiNzalrLN7P"
      },
      "source": [
        "7) Создать матрицу размера 4 на 4 с единицами на диагонали смещеной на один наверх."
      ]
    },
    {
      "cell_type": "code",
      "execution_count": null,
      "metadata": {
        "colab": {
          "base_uri": "https://localhost:8080/"
        },
        "id": "WAnW6rvkLN7Q",
        "outputId": "e6b52053-f6b0-4122-e2dc-7084c0bf3510"
      },
      "outputs": [
        {
          "output_type": "stream",
          "name": "stdout",
          "text": [
            "[[0. 1. 0. 0.]\n",
            " [0. 0. 1. 0.]\n",
            " [0. 0. 0. 1.]\n",
            " [0. 0. 0. 0.]]\n"
          ]
        }
      ],
      "source": [
        "arr = np.eye(4, k=1)\n",
        "print(arr)"
      ]
    },
    {
      "cell_type": "markdown",
      "metadata": {
        "id": "ogIoUD_hLN7Q"
      },
      "source": [
        "8) Создать матрицу с числами в диапазоне от 1 до 4 по диагонали. В других ячейках матрицы должны быть семерки."
      ]
    },
    {
      "cell_type": "code",
      "execution_count": null,
      "metadata": {
        "colab": {
          "base_uri": "https://localhost:8080/"
        },
        "id": "shPXXEYKLN7Q",
        "outputId": "d6a3ad67-c3e5-4987-bbd6-2f6e2bbc735b"
      },
      "outputs": [
        {
          "output_type": "stream",
          "name": "stdout",
          "text": [
            "[[7 7 7 7]\n",
            " [7 7 7 7]\n",
            " [7 7 7 7]\n",
            " [7 7 7 7]]\n"
          ]
        }
      ],
      "source": [
        "arr = np.full((4,4) ,7)\n",
        "\n",
        "print(arr)"
      ]
    },
    {
      "cell_type": "markdown",
      "metadata": {
        "id": "Itgv7UVlLN7Q"
      },
      "source": [
        "9) Создать матрицу размера 5 на 5 заполненную чилами от 0 до 4 в строках."
      ]
    },
    {
      "cell_type": "code",
      "execution_count": null,
      "metadata": {
        "id": "yfPLvYkTLN7Q",
        "colab": {
          "base_uri": "https://localhost:8080/"
        },
        "outputId": "b80a02ec-70aa-4b43-f84a-c5607534db5b"
      },
      "outputs": [
        {
          "output_type": "stream",
          "name": "stdout",
          "text": [
            "[[0. 1. 2. 3. 4.]\n",
            " [0. 1. 2. 3. 4.]\n",
            " [0. 1. 2. 3. 4.]\n",
            " [0. 1. 2. 3. 4.]\n",
            " [0. 1. 2. 3. 4.]]\n"
          ]
        }
      ],
      "source": [
        "import numpy as np\n",
        "\n",
        "arr = np.zeros((5,5))\n",
        "arr += np.arange(5)\n",
        "\n",
        "print(arr)"
      ]
    },
    {
      "cell_type": "markdown",
      "metadata": {
        "id": "qH6qpIBELN7Q"
      },
      "source": [
        "**10**) Создать матрицу случайных чисел размера 10 на 10 и отнять среднее по строкам из каждого элемента строки"
      ]
    },
    {
      "cell_type": "code",
      "execution_count": null,
      "metadata": {
        "id": "CramCe4ZLN7Q",
        "colab": {
          "base_uri": "https://localhost:8080/"
        },
        "outputId": "b85f7092-acb4-4a5f-9d6a-73c71f929acb"
      },
      "outputs": [
        {
          "output_type": "stream",
          "name": "stdout",
          "text": [
            "[[14 14 14 10 76 68 74 87 84  7]\n",
            " [23 27 28 27 20 36 78 56 65 64]\n",
            " [26 96 50 16 71 24 26 45 88 76]\n",
            " [19 31 55 23 94 99 57 46 86  7]\n",
            " [54 47 66 80 67 42 46 57 61 13]\n",
            " [59 19 20 85  2 94 64 74 60 11]\n",
            " [16 29 89  6 37 19 31 67 97 51]\n",
            " [86 31 98 26 81 99 92 48 22 12]\n",
            " [79 19 74 94 33 47 20 41 52 14]\n",
            " [48 25 77 47 91 68 47 88 64 58]]\n",
            "[[-30.8 -30.8 -30.8 -34.8  31.2  23.2  29.2  42.2  39.2 -37.8]\n",
            " [-19.4 -15.4 -14.4 -15.4 -22.4  -6.4  35.6  13.6  22.6  21.6]\n",
            " [-25.8  44.2  -1.8 -35.8  19.2 -27.8 -25.8  -6.8  36.2  24.2]\n",
            " [-32.7 -20.7   3.3 -28.7  42.3  47.3   5.3  -5.7  34.3 -44.7]\n",
            " [  0.7  -6.3  12.7  26.7  13.7 -11.3  -7.3   3.7   7.7 -40.3]\n",
            " [ 10.2 -29.8 -28.8  36.2 -46.8  45.2  15.2  25.2  11.2 -37.8]\n",
            " [-28.2 -15.2  44.8 -38.2  -7.2 -25.2 -13.2  22.8  52.8   6.8]\n",
            " [ 26.5 -28.5  38.5 -33.5  21.5  39.5  32.5 -11.5 -37.5 -47.5]\n",
            " [ 31.7 -28.3  26.7  46.7 -14.3  -0.3 -27.3  -6.3   4.7 -33.3]\n",
            " [-13.3 -36.3  15.7 -14.3  29.7   6.7 -14.3  26.7   2.7  -3.3]]\n"
          ]
        }
      ],
      "source": [
        "arr = np.random.randint(0, 100, size=(10, 10))\n",
        "print(arr)\n",
        "average = np.mean(arr, axis = 1)\n",
        "center = arr - average[:, np.newaxis]\n",
        "print(center)"
      ]
    },
    {
      "cell_type": "markdown",
      "metadata": {
        "id": "uv2eCIBFLN7Q"
      },
      "source": [
        "11) Создать матрицу случайных чисел размера 10 на 10 и отнять медиану по столбцам из каждого элемента столбца  "
      ]
    },
    {
      "cell_type": "code",
      "execution_count": null,
      "metadata": {
        "id": "T2ihJAVyLN7Q",
        "colab": {
          "base_uri": "https://localhost:8080/"
        },
        "outputId": "60a97f22-63d1-4429-8804-a22ee608c254"
      },
      "outputs": [
        {
          "output_type": "stream",
          "name": "stdout",
          "text": [
            "[[80 23 79 53 45 81 70 37 10 65]\n",
            " [ 1 38 26 57 21 64 92 82 32 53]\n",
            " [11 99 99 93 45 72 55 70 48 68]\n",
            " [74  8 16 88  9 53 12 95  3 96]\n",
            " [79 94 17 82  8 97 51 74 40 95]\n",
            " [29 24 74 49 42 48 76 72 75 67]\n",
            " [63 46 41 73 66 56 97 59 60 78]\n",
            " [99 95 26 16 44 75 95 40 46 94]\n",
            " [75 46 31 66 33 41 55 16  8 77]\n",
            " [48 48 57 96 26 92  6  3 69 22]]\n",
            "[[ 11.5 -45.5  10.5 -15.5 -23.5  12.5   1.5 -31.5 -58.5  -3.5]\n",
            " [-45.   -8.  -20.   11.  -25.   18.   46.   36.  -14.    7. ]\n",
            " [-25.   63.   63.   57.    9.   36.   19.   34.   12.   32. ]\n",
            " [  4.5 -61.5 -53.5  18.5 -60.5 -16.5 -57.5  25.5 -66.5  26.5]\n",
            " [ 41.5  56.5 -20.5  44.5 -29.5  59.5  13.5  36.5   2.5  57.5]\n",
            " [-39.  -44.    6.  -19.  -26.  -20.    8.    4.    7.   -1. ]\n",
            " [  0.5 -16.5 -21.5  10.5   3.5  -6.5  34.5  -3.5  -2.5  15.5]\n",
            " [ 34.5  30.5 -38.5 -48.5 -20.5  10.5  30.5 -24.5 -18.5  29.5]\n",
            " [ 32.    3.  -12.   23.  -10.   -2.   12.  -27.  -35.   34. ]\n",
            " [-24.5 -24.5 -15.5  23.5 -46.5  19.5 -66.5 -69.5  -3.5 -50.5]]\n"
          ]
        }
      ],
      "source": [
        "arr = np.random.randint(0, 100, size = (10,10))\n",
        "print(arr)\n",
        "\n",
        "median = np.median(arr, axis = 0)\n",
        "every = arr - median[:, np.newaxis]\n",
        "print(every)"
      ]
    },
    {
      "cell_type": "markdown",
      "metadata": {
        "id": "JCkTi0MoLN7Q"
      },
      "source": [
        "12) Создать матрицу случайных чисел 5x5. Добавить к ней столбецы максимумов и минимумов по строкам. Получится матрица 5x7.  "
      ]
    },
    {
      "cell_type": "code",
      "execution_count": null,
      "metadata": {
        "id": "W7ngh2CdLN7Q",
        "colab": {
          "base_uri": "https://localhost:8080/"
        },
        "outputId": "edbec49b-e33e-450e-c9b5-32a9c9cbb6f6"
      },
      "outputs": [
        {
          "output_type": "stream",
          "name": "stdout",
          "text": [
            "[[21 90 48  2 37]\n",
            " [47 43 31 70 31]\n",
            " [96 42 40 33 93]\n",
            " [35 18 77 56 56]\n",
            " [ 8 40 76  4 40]]\n",
            "[[21 90 48  2 37 90  2]\n",
            " [47 43 31 70 31 70 31]\n",
            " [96 42 40 33 93 96 33]\n",
            " [35 18 77 56 56 77 18]\n",
            " [ 8 40 76  4 40 76  4]]\n"
          ]
        }
      ],
      "source": [
        "matrix = np.random.randint(0, 100, size = (5, 5))\n",
        "print(matrix)\n",
        "\n",
        "max_value = np.max(matrix, axis = 1)\n",
        "min_value = np.min(matrix, axis = 1)\n",
        "\n",
        "with_max = np.column_stack((matrix, max_value))\n",
        "final = np.column_stack((with_max, min_value))\n",
        "print(final)"
      ]
    },
    {
      "cell_type": "markdown",
      "metadata": {
        "id": "x5uofZ0fLN7Q"
      },
      "source": [
        "13) Вектор чисел от 1 до 51 преобразовать в вектор нечетных чисел и в вектор четных чисел, поменять их размерности, чтобы получились две матрица. Найти произведение этих матриц. Найти обратную матрицу эётого произведения.  "
      ]
    },
    {
      "cell_type": "code",
      "execution_count": null,
      "metadata": {
        "id": "dYsQye9uLN7R",
        "colab": {
          "base_uri": "https://localhost:8080/"
        },
        "outputId": "8409666d-b96c-43e2-c334-34fff20382c9"
      },
      "outputs": [
        {
          "output_type": "stream",
          "name": "stdout",
          "text": [
            "[[ 1  3  5  7  9 11 13 15 17 19 21 23 25 27 29 31 33 35 37 39 41 43 45 47\n",
            "  49]]\n",
            "[[ 2  4  6  8 10 12 14 16 18 20 22 24 26 28 30 32 34 36 38 40 42 44 46 48\n",
            "  50]]\n",
            "[[   2   12   30   56   90  132  182  240  306  380  462  552  650  756\n",
            "   870  992 1122 1260 1406 1560 1722 1892 2070 2256 2450]]\n"
          ]
        }
      ],
      "source": [
        "vector = np.arange(1, 51)\n",
        "\n",
        "chet = vector[vector % 2 != 0]\n",
        "nechet = vector[vector % 2 == 0]\n",
        "\n",
        "chet_matrix = np.array([chet])\n",
        "nechet_matrix = np.array([nechet])\n",
        "\n",
        "print(chet_matrix)\n",
        "print(nechet_matrix)\n",
        "\n",
        "perem_matrix = chet_matrix * nechet_matrix\n",
        "print(perem_matrix)"
      ]
    },
    {
      "cell_type": "markdown",
      "metadata": {
        "id": "nU2RRZEMLN7R"
      },
      "source": [
        "14) Создать 8x8 матрицу и заполнить её в шахматном порядке нулями и единицами."
      ]
    },
    {
      "cell_type": "code",
      "execution_count": null,
      "metadata": {
        "id": "RWASG_tdLN7R",
        "colab": {
          "base_uri": "https://localhost:8080/"
        },
        "outputId": "8fd71faf-0582-4d5b-8a75-ffa7646e35fa"
      },
      "outputs": [
        {
          "output_type": "stream",
          "name": "stdout",
          "text": [
            "[[1. 0. 1. 0. 1. 0. 1. 0.]\n",
            " [0. 1. 0. 1. 0. 1. 0. 1.]\n",
            " [1. 0. 1. 0. 1. 0. 1. 0.]\n",
            " [0. 1. 0. 1. 0. 1. 0. 1.]\n",
            " [1. 0. 1. 0. 1. 0. 1. 0.]\n",
            " [0. 1. 0. 1. 0. 1. 0. 1.]\n",
            " [1. 0. 1. 0. 1. 0. 1. 0.]\n",
            " [0. 1. 0. 1. 0. 1. 0. 1.]]\n"
          ]
        }
      ],
      "source": [
        "matrix = np.zeros((8,8))\n",
        "\n",
        "for i in range(8):\n",
        "  for j in range(8):\n",
        "    if (i + j) % 2 == 0:\n",
        "        matrix[i, j] = 1\n",
        "    else:\n",
        "      matrix[i, j] = 0\n",
        "\n",
        "print(matrix)\n"
      ]
    }
  ],
  "metadata": {
    "kernelspec": {
      "display_name": "Python 3 (ipykernel)",
      "language": "python",
      "name": "python3"
    },
    "language_info": {
      "codemirror_mode": {
        "name": "ipython",
        "version": 3
      },
      "file_extension": ".py",
      "mimetype": "text/x-python",
      "name": "python",
      "nbconvert_exporter": "python",
      "pygments_lexer": "ipython3",
      "version": "3.12.4"
    },
    "colab": {
      "provenance": []
    }
  },
  "nbformat": 4,
  "nbformat_minor": 0
}